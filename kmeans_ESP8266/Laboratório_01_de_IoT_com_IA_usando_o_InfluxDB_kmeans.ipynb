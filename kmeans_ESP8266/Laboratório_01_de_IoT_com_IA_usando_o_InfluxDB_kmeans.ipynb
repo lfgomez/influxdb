{
  "cells": [
    {
      "cell_type": "markdown",
      "metadata": {
        "id": "-teIMJ_OcdN1"
      },
      "source": [
        "# Laboratório 01 de IoT com IA usando o InfluxDB - Guia para a aula experimental\n",
        "\n",
        "Nesse roteiro vamos implementar o método de aprendizado não supervisionado kmeans no dispositivo, nesse caso um NodeMCU 1.0, baseado em um ESP8266.\n",
        "Para seguir esse roteiro, você precisará de acesso a um banco de dados InfluxDB, e, caso deseje trabalhar com o kit disponibilizado para vocês fora do laboratório, será necessário baixar a Arduino IDE e adicionar o suporte a placa de desenvolvimento **NodeMCU**. Um guia de instalação da placa pode ser visto na referência https://www.filipeflop.com/blog/programar-nodemcu-com-ide-arduino/"
      ]
    },
    {
      "cell_type": "markdown",
      "metadata": {
        "id": "cVtBnIvVcdN2"
      },
      "source": [
        "Vamos iniciar nosso notebook instalando e posteriormente chamando todas as bibliotecas que usaremos. Nessa etapa, nada precisa ser modificado."
      ]
    },
    {
      "cell_type": "code",
      "source": [
        "!pip install arrow influxdb_client"
      ],
      "metadata": {
        "id": "enJ-d_yldamV"
      },
      "execution_count": null,
      "outputs": []
    },
    {
      "cell_type": "code",
      "execution_count": null,
      "metadata": {
        "id": "M2-p7dSicdN3"
      },
      "outputs": [],
      "source": [
        "import numpy as np\n",
        "import pandas as pd\n",
        "import arrow\n",
        "import requests\n",
        "import re\n",
        "import influxdb_client, os, time\n",
        "from influxdb_client import InfluxDBClient, Point, WritePrecision\n",
        "from influxdb_client.client.write_api import SYNCHRONOUS\n",
        "import matplotlib.pyplot as plt"
      ]
    },
    {
      "cell_type": "markdown",
      "metadata": {
        "id": "iAL7W47KcdN3"
      },
      "source": [
        "O próximo passo é definir os endereços que serão usados para consultar e enviar os dados, o token de acesso, a organização e o bucket com os dados."
      ]
    },
    {
      "cell_type": "code",
      "execution_count": null,
      "metadata": {
        "id": "DH9NdzYNcdN3"
      },
      "outputs": [],
      "source": [
        "token = ''\n",
        "user = ''\n",
        "url = 'http://64.227.106.209:8086'\n",
        "bucket = ''"
      ]
    },
    {
      "cell_type": "markdown",
      "source": [
        "Vamos agora conectar com o banco de dados, usando as np.infomções definidas anteriormente."
      ],
      "metadata": {
        "id": "zSmFjdEFstPM"
      }
    },
    {
      "cell_type": "code",
      "source": [
        "db_client = influxdb_client.InfluxDBClient(url=url, token=token, org=user)"
      ],
      "metadata": {
        "id": "trp36K4CsiHf"
      },
      "execution_count": null,
      "outputs": []
    },
    {
      "cell_type": "markdown",
      "metadata": {
        "id": "YOEQnPUhcdN4"
      },
      "source": [
        "## Usando o Kit de Hardware\n",
        "Esse é o momento de você baixar o código dos dispositivos disponível no GitHub: https://github.com/lfgomez/influxdb/tree/main/kmeans_ESP8266 Você deve baixar o código **kmeans-termistor**. Depois de baixar o código, abra o código do Termometro na Arduino IDE e mude os parâmetros de rede Wifi, canal de publicação (minha sugestão é usar *temperatura*) credenciais do dispositivo.\n",
        "\n",
        "![term](https://raw.githubusercontent.com/KonkerLabs/arduino_examples/master/Termometro_MQTT/term.jpg \"Termômetro\")\n",
        "\n",
        "Com o dispositivo montado, o próximo passo é compilar e gravar o Firmware. Lembre-se de mudar a board na Arduino IDE para **NodeMCU v1.0**."
      ]
    },
    {
      "cell_type": "markdown",
      "metadata": {
        "id": "b6FgLDEKcdN4"
      },
      "source": [
        "**Ao iniciar o treinamento, o LED da placa começará a piscar. Após isso, aguarde 10 segundos registrando a temperatura ambiente. Após isso, segure o termistor com seus dedos fazendo a temperatura subir. Mantenha o termômetro aquecido com seus dedos por ao menos 10 segundos. Por último, deixe o dispositivo capturando novamente dados de temperatura ambiente até que o LED da placa pare de piscar.**"
      ]
    },
    {
      "cell_type": "markdown",
      "metadata": {
        "id": "CVnM_J8YcdN4"
      },
      "source": [
        "**Quando o LED se apagar ou acender continuamente, o treinamento está terminado. A placa então começará a enviar dados para a plataforma, em dois canais: \"temperatura\" e \"cluster\". O LED também está configurado para mudar de estado conforme o cluster do dado adquirido: apagado para cluster 0 e aceso para cluster 1.**"
      ]
    },
    {
      "cell_type": "markdown",
      "metadata": {
        "id": "CQgesjKFcdN4"
      },
      "source": [
        "## Vamos baixar os dados e ver como eles se comportam\n",
        "Para iniciar esse trabalho, vamos primeiro escrever uma função que nos permita baixar os dados dos útimos \"d\" dias, do bucket que definimos anteriormete."
      ]
    },
    {
      "cell_type": "code",
      "execution_count": null,
      "metadata": {
        "id": "Ai5Z7PIicdN4"
      },
      "outputs": [],
      "source": [
        "def get_data(days):\n",
        "    query_api = db_client.query_api()\n",
        "    stop = arrow.now().to('UTC').isoformat()[:-13]+'Z'\n",
        "    start = arrow.now().shift(days=-1*days).to('UTC').isoformat()[:-13]+'Z'\n",
        "    query = \"\"\"from(bucket: \\\"\"\"\"+bucket+\"\"\"\\\")\n",
        "    |> range(start: \"\"\"+start+\"\"\", stop: \"\"\"+stop+\"\"\")\n",
        "    |> pivot(rowKey:[\"_time\"], columnKey: [\"_field\"], valueColumn: \"_value\")\n",
        "    |> keep(columns: [\"_time\", \"_measurement\",\"temperatura\", \"grupo\"])\"\"\"\n",
        "    df = query_api.query_data_frame(query, org=user)\n",
        "    return df"
      ]
    },
    {
      "cell_type": "markdown",
      "metadata": {
        "id": "_X5xfUpEcdN4"
      },
      "source": [
        "Agora vamos usar a funçar que definimos acima e baixar o último dia de dados. Vamos aproveitar para deixar o timestamp no horário do Brasil e organizar o Dataframe pelo tempo."
      ]
    },
    {
      "cell_type": "code",
      "execution_count": null,
      "metadata": {
        "id": "iusd96g7cdN4"
      },
      "outputs": [],
      "source": [
        "df = get_data(1)\n",
        "df['_time'] = df['_time'].dt.tz_convert('America/Sao_Paulo')\n",
        "df.index = pd.to_datetime(df['_time'])\n",
        "df = df.drop(columns=['_time'])"
      ]
    },
    {
      "cell_type": "markdown",
      "metadata": {
        "id": "WcDWNjPtcdN5"
      },
      "source": [
        "Caso tudo tenha funcionado como esperado, você deve estar vendo seus dados na sequência, já no formato tabular do Pandas."
      ]
    },
    {
      "cell_type": "code",
      "source": [
        "df"
      ],
      "metadata": {
        "id": "sX37iKpKnT8X"
      },
      "execution_count": null,
      "outputs": []
    },
    {
      "cell_type": "markdown",
      "metadata": {
        "id": "5Rt-WF2GcdN5"
      },
      "source": [
        "Ótimo! Agora os dados estão em um formato mais fácil de ler. Vamos agora ver os clusters."
      ]
    },
    {
      "cell_type": "code",
      "execution_count": null,
      "metadata": {
        "id": "-Py5AAAIcdN5"
      },
      "outputs": [],
      "source": [
        "plt.figure(figsize=(15,4))\n",
        "df['grupo'].plot()\n",
        "plt.xticks(rotation=45);"
      ]
    },
    {
      "cell_type": "markdown",
      "metadata": {
        "id": "bX7ugiV4cdN5"
      },
      "source": [
        "Vamos agora plotar os clusters juntamente com a temperatura"
      ]
    },
    {
      "cell_type": "code",
      "execution_count": null,
      "metadata": {
        "id": "DxTblqqycdN5"
      },
      "outputs": [],
      "source": [
        "fig, ax1 = plt.subplots(figsize=(15,4))\n",
        "ax1.set_xlabel('timestamp')\n",
        "ax1 = df['temperatura'].plot()\n",
        "ax2 = ax1.twinx()\n",
        "ax2.fill_between(df.index,df['grupo'], 0,color = 'red', alpha=0.3)\n",
        "ax1.tick_params(labelrotation=45);"
      ]
    },
    {
      "cell_type": "markdown",
      "metadata": {
        "id": "aK29fKD8cdN5"
      },
      "source": [
        "### Perguntas com relação ao kmeans\n",
        "#### 1) Como funciona o método de kmeans? Quais os parâmetros do método?\n",
        "#### 2) Ele é um método supervisionado ou não-supervisionado? O que isso significa?\n",
        "#### 3) O que você espera como resultado dele de uma forma geral? Ele funciona em dimensões superiores a 3?\n"
      ]
    },
    {
      "cell_type": "markdown",
      "metadata": {
        "id": "XyaYnxZucdN5"
      },
      "source": [
        "### Perguntas com relação ao experimento\n",
        "#### 1) O que ocorre se você tiver um vetor com todas as temperaturas idênticas?\n",
        "#### 2) Como você inicializaria os centroids? Consegue apontar como foi feito no código? O que ocorre se forem usadas as duas primeiras entradas do vetor como centroids?\n",
        "#### 3) O que ocorre se você reduzir o máximo de iterações do kmeans para 2? E o que ocorre no limite supeiror, digamos, com o máximo de 100000?"
      ]
    },
    {
      "cell_type": "markdown",
      "metadata": {
        "id": "tGYhMKi8cdN5"
      },
      "source": [
        "### Perguntas com relação a aprendizado no dispositivo\n",
        "#### 1) Quais as vantagens do aprendizado no dispositivo? (Latência, disponibilidade, privacidade...)\n",
        "#### 2) Quais são as maiores desvantagens ou dificuldades no aprendizado de máquina em dispositivos?"
      ]
    },
    {
      "cell_type": "code",
      "execution_count": null,
      "metadata": {
        "id": "6dVeywsscdN5"
      },
      "outputs": [],
      "source": []
    }
  ],
  "metadata": {
    "kernelspec": {
      "display_name": "Python 3 (ipykernel)",
      "language": "python",
      "name": "python3"
    },
    "language_info": {
      "codemirror_mode": {
        "name": "ipython",
        "version": 3
      },
      "file_extension": ".py",
      "mimetype": "text/x-python",
      "name": "python",
      "nbconvert_exporter": "python",
      "pygments_lexer": "ipython3",
      "version": "3.11.2"
    },
    "colab": {
      "provenance": []
    }
  },
  "nbformat": 4,
  "nbformat_minor": 0
}